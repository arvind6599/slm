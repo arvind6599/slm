{
 "cells": [
  {
   "cell_type": "markdown",
   "metadata": {},
   "source": [
    "\n",
    "\n",
    "## Make a questionnaire that asks questions regarding \n",
    "\n",
    "-- DPI\n",
    "-- Use-ases for shortcuts to assign macros to either mouse buttons or keybaord keys\n",
    "\n"
   ]
  },
  {
   "cell_type": "markdown",
   "metadata": {},
   "source": []
  },
  {
   "cell_type": "code",
   "execution_count": 4,
   "metadata": {},
   "outputs": [],
   "source": [
    "import ollama\n",
    "import streamlit\n",
    "import pandas as pd\n",
    "import numpy as np\n",
    "import pydantic\n",
    "import datetime\n",
    "import time\n",
    "import os"
   ]
  },
  {
   "cell_type": "markdown",
   "metadata": {},
   "source": [
    "## Testing ollama generations"
   ]
  },
  {
   "cell_type": "code",
   "execution_count": 14,
   "metadata": {},
   "outputs": [
    {
     "name": "stdout",
     "output_type": "stream",
     "text": [
      "I'm doing well, thank you! 😊  How can I help you today? \n"
     ]
    }
   ],
   "source": [
    "stream = ollama.chat(\n",
    "    model = \"gemma2:2b\",\n",
    "    messages= [\n",
    "        {\"role\":\"user\", \"content\":\"Hello, how are you?\"}\n",
    "    ],\n",
    "    stream=True\n",
    ")\n",
    "for s in stream:\n",
    "    print(s['message']['content'], end=\"\", flush=True)\n"
   ]
  },
  {
   "cell_type": "code",
   "execution_count": null,
   "metadata": {},
   "outputs": [],
   "source": []
  }
 ],
 "metadata": {
  "kernelspec": {
   "display_name": "mnlp-a2",
   "language": "python",
   "name": "python3"
  },
  "language_info": {
   "codemirror_mode": {
    "name": "ipython",
    "version": 3
   },
   "file_extension": ".py",
   "mimetype": "text/x-python",
   "name": "python",
   "nbconvert_exporter": "python",
   "pygments_lexer": "ipython3",
   "version": "3.10.12"
  }
 },
 "nbformat": 4,
 "nbformat_minor": 2
}
